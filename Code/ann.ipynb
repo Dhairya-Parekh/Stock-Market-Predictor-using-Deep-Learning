{
 "cells": [
  {
   "cell_type": "code",
   "execution_count": 1,
   "source": [
    "import tensorflow as tf\n",
    "import pandas as pd\n",
    "import numpy as np"
   ],
   "outputs": [
    {
     "output_type": "stream",
     "name": "stderr",
     "text": [
      "2022-05-12 00:03:32.370914: W tensorflow/stream_executor/platform/default/dso_loader.cc:64] Could not load dynamic library 'libcudart.so.11.0'; dlerror: libcudart.so.11.0: cannot open shared object file: No such file or directory\n",
      "2022-05-12 00:03:32.370974: I tensorflow/stream_executor/cuda/cudart_stub.cc:29] Ignore above cudart dlerror if you do not have a GPU set up on your machine.\n",
      "/usr/lib/python3/dist-packages/requests/__init__.py:89: RequestsDependencyWarning: urllib3 (1.26.9) or chardet (3.0.4) doesn't match a supported version!\n",
      "  warnings.warn(\"urllib3 ({}) or chardet ({}) doesn't match a supported \"\n"
     ]
    }
   ],
   "metadata": {}
  },
  {
   "cell_type": "code",
   "execution_count": 55,
   "source": [
    "inputfile = \"./RELIANCE.NS.csv\"\n",
    "data = pd.read_csv(inputfile)\n",
    "data = data.drop(['Date','Adj Close','Volume'],axis=1)\n",
    "npdata = np.array(data)\n",
    "Y = npdata[2:] #Y\n",
    "npdataUp = npdata[1:-1]\n",
    "npdata = npdata[:-2]\n",
    "X = np.hstack([npdata,npdataUp]) #X\n",
    "# X = pd.DataFrame(X)\n",
    "# Y = pd.DataFrame(Y)"
   ],
   "outputs": [],
   "metadata": {}
  },
  {
   "cell_type": "code",
   "execution_count": 56,
   "source": [
    "train_X = X[:-380]\n",
    "test_X = X[-380:]\n",
    "train_Y = Y[:-380]\n",
    "test_Y = Y[-380:]"
   ],
   "outputs": [],
   "metadata": {}
  },
  {
   "cell_type": "code",
   "execution_count": 58,
   "source": [
    "print(test_X)\n",
    "print(test_Y)"
   ],
   "outputs": [
    {
     "output_type": "stream",
     "name": "stdout",
     "text": [
      "[[1084.718018 1096.902466 1036.376221 ... 1064.707642 1010.42218\n",
      "  1020.774109]\n",
      " [1030.828735 1064.707642 1010.42218  ... 1119.191162 1038.159302\n",
      "  1103.29187 ]\n",
      " [1063.865601 1119.191162 1038.159302 ... 1114.040039 1035.38562\n",
      "  1070.304565]\n",
      " ...\n",
      " [2553.       2574.850098 2537.050049 ... 2612.       2547.350098\n",
      "  2609.199951]\n",
      " [2555.100098 2612.       2547.350098 ... 2619.949951 2551.100098\n",
      "  2559.850098]\n",
      " [2619.949951 2619.949951 2551.100098 ... 2598.75     2567.699951\n",
      "  2572.399902]]\n",
      "[[1063.865601 1119.191162 1038.159302 1103.29187 ]\n",
      " [1111.712036 1114.040039 1035.38562  1070.304565]\n",
      " [1123.797485 1123.797485 1046.381348 1067.332764]\n",
      " ...\n",
      " [2619.949951 2619.949951 2551.100098 2559.850098]\n",
      " [2595.       2598.75     2567.699951 2572.399902]\n",
      " [2585.25     2684.399902 2581.5      2671.25    ]]\n"
     ]
    }
   ],
   "metadata": {}
  },
  {
   "cell_type": "code",
   "execution_count": 59,
   "source": [
    "model = tf.keras.Sequential([\n",
    "    tf.keras.layers.Dense(units=8, activation='sigmoid',input_shape=(8,)),\n",
    "    tf.keras.layers.Dense(units=2, activation='sigmoid'),\n",
    "    tf.keras.layers.Dense(units=2, activation='sigmoid'),\n",
    "    tf.keras.layers.Dense(units=4, activation='sigmoid'),\n",
    "])\n",
    "# model.summary()"
   ],
   "outputs": [],
   "metadata": {}
  },
  {
   "cell_type": "code",
   "execution_count": 67,
   "source": [
    "model.compile(optimizer=tf.optimizers.SGD(),loss=tf.keras.losses.MeanAbsoluteError(),metrics=['accuracy'])\n",
    "model.fit(train_X,train_Y,epochs=10, batch_size=25)"
   ],
   "outputs": [
    {
     "output_type": "stream",
     "name": "stdout",
     "text": [
      "Epoch 1/10\n",
      "113/113 [==============================] - 1s 2ms/step - loss: 620.2695 - accuracy: 0.9361\n",
      "Epoch 2/10\n",
      "113/113 [==============================] - 0s 2ms/step - loss: 620.2653 - accuracy: 0.9361\n",
      "Epoch 3/10\n",
      "113/113 [==============================] - 0s 3ms/step - loss: 620.2615 - accuracy: 0.9361\n",
      "Epoch 4/10\n",
      "113/113 [==============================] - 0s 3ms/step - loss: 620.2577 - accuracy: 0.9361\n",
      "Epoch 5/10\n",
      "113/113 [==============================] - 0s 3ms/step - loss: 620.2546 - accuracy: 0.9361\n",
      "Epoch 6/10\n",
      "113/113 [==============================] - 0s 3ms/step - loss: 620.2516 - accuracy: 0.9361\n",
      "Epoch 7/10\n",
      "113/113 [==============================] - 0s 3ms/step - loss: 620.2488 - accuracy: 0.9361\n",
      "Epoch 8/10\n",
      "113/113 [==============================] - 0s 3ms/step - loss: 620.2463 - accuracy: 0.9361\n",
      "Epoch 9/10\n",
      "113/113 [==============================] - 0s 4ms/step - loss: 620.2439 - accuracy: 0.9361\n",
      "Epoch 10/10\n",
      "113/113 [==============================] - 0s 4ms/step - loss: 620.2415 - accuracy: 0.9361\n"
     ]
    },
    {
     "output_type": "execute_result",
     "data": {
      "text/plain": [
       "<keras.callbacks.History at 0x7fb61eb188b0>"
      ]
     },
     "metadata": {},
     "execution_count": 67
    }
   ],
   "metadata": {}
  },
  {
   "cell_type": "code",
   "execution_count": 61,
   "source": [
    "model.evaluate(test_X,test_Y)"
   ],
   "outputs": [
    {
     "output_type": "stream",
     "name": "stdout",
     "text": [
      "12/12 [==============================] - 0s 1ms/step - loss: 1992.6661 - accuracy: 0.9263\n"
     ]
    },
    {
     "output_type": "execute_result",
     "data": {
      "text/plain": [
       "[1992.6661376953125, 0.9263157844543457]"
      ]
     },
     "metadata": {},
     "execution_count": 61
    }
   ],
   "metadata": {}
  },
  {
   "cell_type": "code",
   "execution_count": 66,
   "source": [
    "q = np.array([[1,2,3,4,5,6,7,8]])\n",
    "print(q)\n",
    "prediction = model.predict(q)\n",
    "print(prediction)\n",
    "q = np.array([test_X[1]])\n",
    "print(q)\n",
    "prediction = model.predict(q)\n",
    "print(prediction)\n",
    "q = np.array([test_X[2]])\n",
    "print(q)\n",
    "prediction = model.predict(q)\n",
    "print(prediction)"
   ],
   "outputs": [
    {
     "output_type": "stream",
     "name": "stdout",
     "text": [
      "[[1 2 3 4 5 6 7 8]]\n",
      "[[0.90650433 0.93951917 0.8819434  0.9098856 ]]\n",
      "[[1030.828735 1064.707642 1010.42218  1020.774109 1063.865601 1119.191162\n",
      "  1038.159302 1103.29187 ]]\n",
      "[[0.9066736  0.9396191  0.8819046  0.91004866]]\n",
      "[[1063.865601 1119.191162 1038.159302 1103.29187  1111.712036 1114.040039\n",
      "  1035.38562  1070.304565]]\n",
      "[[0.9066736  0.9396191  0.8819046  0.91004866]]\n"
     ]
    }
   ],
   "metadata": {}
  }
 ],
 "metadata": {
  "interpreter": {
   "hash": "31f2aee4e71d21fbe5cf8b01ff0e069b9275f58929596ceb00d14d90e3e16cd6"
  },
  "kernelspec": {
   "name": "python3",
   "display_name": "Python 3.8.10 64-bit"
  },
  "language_info": {
   "codemirror_mode": {
    "name": "ipython",
    "version": 3
   },
   "file_extension": ".py",
   "mimetype": "text/x-python",
   "name": "python",
   "nbconvert_exporter": "python",
   "pygments_lexer": "ipython3",
   "version": "3.8.10"
  },
  "orig_nbformat": 4
 },
 "nbformat": 4,
 "nbformat_minor": 2
}